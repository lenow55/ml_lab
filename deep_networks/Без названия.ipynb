{
 "cells": [
  {
   "cell_type": "code",
   "execution_count": 1,
   "id": "4ace416f",
   "metadata": {
    "scrolled": true
   },
   "outputs": [
    {
     "name": "stderr",
     "output_type": "stream",
     "text": [
      "2022-09-17 20:17:38.809500: I tensorflow/core/platform/cpu_feature_guard.cc:193] This TensorFlow binary is optimized with oneAPI Deep Neural Network Library (oneDNN) to use the following CPU instructions in performance-critical operations:  AVX2 FMA\n",
      "To enable them in other operations, rebuild TensorFlow with the appropriate compiler flags.\n",
      "2022-09-17 20:17:39.084738: E tensorflow/stream_executor/cuda/cuda_blas.cc:2981] Unable to register cuBLAS factory: Attempting to register factory for plugin cuBLAS when one has already been registered\n",
      "2022-09-17 20:17:39.746721: W tensorflow/stream_executor/platform/default/dso_loader.cc:64] Could not load dynamic library 'libnvinfer.so.7'; dlerror: libnvinfer.so.7: cannot open shared object file: No such file or directory\n",
      "2022-09-17 20:17:39.746773: W tensorflow/stream_executor/platform/default/dso_loader.cc:64] Could not load dynamic library 'libnvinfer_plugin.so.7'; dlerror: libnvinfer_plugin.so.7: cannot open shared object file: No such file or directory\n",
      "2022-09-17 20:17:39.746777: W tensorflow/compiler/tf2tensorrt/utils/py_utils.cc:38] TF-TRT Warning: Cannot dlopen some TensorRT libraries. If you would like to use Nvidia GPU with TensorRT, please make sure the missing libraries mentioned above are installed properly.\n"
     ]
    }
   ],
   "source": [
    "import numpy\n",
    "from keras.datasets import cifar10\n",
    "from keras.models import Sequential\n",
    "from keras.models import clone_model\n",
    "from keras.layers import Dense, Flatten, Activation\n",
    "from keras.layers import Dropout\n",
    "from keras.layers.convolutional import Convolution2D, MaxPooling2D\n",
    "from keras.utils import np_utils"
   ]
  },
  {
   "cell_type": "code",
   "execution_count": 2,
   "id": "e1503a32",
   "metadata": {},
   "outputs": [],
   "source": [
    "# Задаем seed для повторяемости результатов\n",
    "numpy.random.seed(42)"
   ]
  },
  {
   "cell_type": "code",
   "execution_count": 3,
   "id": "07cc4751",
   "metadata": {},
   "outputs": [],
   "source": [
    "# Загружаем данные\n",
    "(X_train, y_train), (X_test, y_test) = cifar10.load_data()"
   ]
  },
  {
   "cell_type": "code",
   "execution_count": 4,
   "id": "8bb80cef",
   "metadata": {},
   "outputs": [],
   "source": [
    "# Размер мини-выборки\n",
    "batch_size = 32\n",
    "# Количество классов изображений\n",
    "nb_classes = 10\n",
    "# Количество эпох для обучения\n",
    "nb_epoch = 25\n",
    "# Размер изображений\n",
    "img_rows, img_cols = 32, 32\n",
    "# Количество каналов в изображении: RGB\n",
    "img_channels = 3"
   ]
  },
  {
   "cell_type": "code",
   "execution_count": 5,
   "id": "dcf5984e",
   "metadata": {},
   "outputs": [],
   "source": [
    "# Нормализуем данные\n",
    "X_train = X_train.astype('float32')\n",
    "X_test = X_test.astype('float32')\n"
   ]
  },
  {
   "cell_type": "code",
   "execution_count": 6,
   "id": "2a1da660",
   "metadata": {},
   "outputs": [],
   "source": [
    "NON_X_train = X_train.copy()\n",
    "NON_X_test = X_test.copy()"
   ]
  },
  {
   "cell_type": "code",
   "execution_count": 7,
   "id": "da2a3fd6",
   "metadata": {},
   "outputs": [
    {
     "data": {
      "text/plain": [
       "array([[[53., 65., 53.],\n",
       "        [54., 63., 52.],\n",
       "        [56., 60., 50.],\n",
       "        ...,\n",
       "        [47., 51., 50.],\n",
       "        [41., 45., 44.],\n",
       "        [24., 28., 27.]],\n",
       "\n",
       "       [[46., 59., 41.],\n",
       "        [53., 62., 45.],\n",
       "        [54., 59., 44.],\n",
       "        ...,\n",
       "        [42., 46., 45.],\n",
       "        [39., 43., 42.],\n",
       "        [28., 32., 31.]],\n",
       "\n",
       "       [[45., 59., 38.],\n",
       "        [50., 60., 41.],\n",
       "        [46., 52., 34.],\n",
       "        ...,\n",
       "        [38., 42., 41.],\n",
       "        [36., 40., 39.],\n",
       "        [29., 33., 32.]],\n",
       "\n",
       "       ...,\n",
       "\n",
       "       [[71., 83., 66.],\n",
       "        [74., 83., 66.],\n",
       "        [80., 85., 67.],\n",
       "        ...,\n",
       "        [51., 54., 33.],\n",
       "        [46., 49., 34.],\n",
       "        [49., 50., 41.]],\n",
       "\n",
       "       [[75., 82., 67.],\n",
       "        [79., 85., 69.],\n",
       "        [81., 85., 67.],\n",
       "        ...,\n",
       "        [61., 65., 41.],\n",
       "        [64., 67., 48.],\n",
       "        [48., 50., 41.]],\n",
       "\n",
       "       [[85., 83., 71.],\n",
       "        [85., 84., 71.],\n",
       "        [86., 86., 70.],\n",
       "        ...,\n",
       "        [61., 65., 39.],\n",
       "        [64., 67., 46.],\n",
       "        [49., 50., 41.]]], dtype=float32)"
      ]
     },
     "execution_count": 7,
     "metadata": {},
     "output_type": "execute_result"
    }
   ],
   "source": [
    "NON_X_train[10]"
   ]
  },
  {
   "cell_type": "code",
   "execution_count": 8,
   "id": "f6be7c0a",
   "metadata": {},
   "outputs": [],
   "source": [
    "X_train /= 255\n",
    "X_test /= 255"
   ]
  },
  {
   "cell_type": "code",
   "execution_count": 9,
   "id": "62cf2045",
   "metadata": {},
   "outputs": [
    {
     "data": {
      "text/plain": [
       "array([[[0.20784314, 0.25490198, 0.20784314],\n",
       "        [0.21176471, 0.24705882, 0.20392157],\n",
       "        [0.21960784, 0.23529412, 0.19607843],\n",
       "        ...,\n",
       "        [0.18431373, 0.2       , 0.19607843],\n",
       "        [0.16078432, 0.1764706 , 0.17254902],\n",
       "        [0.09411765, 0.10980392, 0.10588235]],\n",
       "\n",
       "       [[0.18039216, 0.23137255, 0.16078432],\n",
       "        [0.20784314, 0.24313726, 0.1764706 ],\n",
       "        [0.21176471, 0.23137255, 0.17254902],\n",
       "        ...,\n",
       "        [0.16470589, 0.18039216, 0.1764706 ],\n",
       "        [0.15294118, 0.16862746, 0.16470589],\n",
       "        [0.10980392, 0.1254902 , 0.12156863]],\n",
       "\n",
       "       [[0.1764706 , 0.23137255, 0.14901961],\n",
       "        [0.19607843, 0.23529412, 0.16078432],\n",
       "        [0.18039216, 0.20392157, 0.13333334],\n",
       "        ...,\n",
       "        [0.14901961, 0.16470589, 0.16078432],\n",
       "        [0.14117648, 0.15686275, 0.15294118],\n",
       "        [0.11372549, 0.12941177, 0.1254902 ]],\n",
       "\n",
       "       ...,\n",
       "\n",
       "       [[0.2784314 , 0.3254902 , 0.25882354],\n",
       "        [0.2901961 , 0.3254902 , 0.25882354],\n",
       "        [0.3137255 , 0.33333334, 0.2627451 ],\n",
       "        ...,\n",
       "        [0.2       , 0.21176471, 0.12941177],\n",
       "        [0.18039216, 0.19215687, 0.13333334],\n",
       "        [0.19215687, 0.19607843, 0.16078432]],\n",
       "\n",
       "       [[0.29411766, 0.32156864, 0.2627451 ],\n",
       "        [0.30980393, 0.33333334, 0.27058825],\n",
       "        [0.31764707, 0.33333334, 0.2627451 ],\n",
       "        ...,\n",
       "        [0.23921569, 0.25490198, 0.16078432],\n",
       "        [0.2509804 , 0.2627451 , 0.1882353 ],\n",
       "        [0.1882353 , 0.19607843, 0.16078432]],\n",
       "\n",
       "       [[0.33333334, 0.3254902 , 0.2784314 ],\n",
       "        [0.33333334, 0.32941177, 0.2784314 ],\n",
       "        [0.3372549 , 0.3372549 , 0.27450982],\n",
       "        ...,\n",
       "        [0.23921569, 0.25490198, 0.15294118],\n",
       "        [0.2509804 , 0.2627451 , 0.18039216],\n",
       "        [0.19215687, 0.19607843, 0.16078432]]], dtype=float32)"
      ]
     },
     "execution_count": 9,
     "metadata": {},
     "output_type": "execute_result"
    }
   ],
   "source": [
    "X_train[10]"
   ]
  },
  {
   "cell_type": "code",
   "execution_count": 10,
   "id": "a332b312",
   "metadata": {},
   "outputs": [],
   "source": [
    "# Преобразуем метки в категории\n",
    "Y_train = np_utils.to_categorical(y_train, nb_classes)\n",
    "Y_test = np_utils.to_categorical(y_test, nb_classes)"
   ]
  },
  {
   "cell_type": "code",
   "execution_count": 11,
   "id": "5a3b7d8c",
   "metadata": {},
   "outputs": [
    {
     "name": "stderr",
     "output_type": "stream",
     "text": [
      "2022-09-17 20:17:41.687777: I tensorflow/stream_executor/cuda/cuda_gpu_executor.cc:980] successful NUMA node read from SysFS had negative value (-1), but there must be at least one NUMA node, so returning NUMA node zero\n",
      "2022-09-17 20:17:41.744242: I tensorflow/stream_executor/cuda/cuda_gpu_executor.cc:980] successful NUMA node read from SysFS had negative value (-1), but there must be at least one NUMA node, so returning NUMA node zero\n",
      "2022-09-17 20:17:41.744481: I tensorflow/stream_executor/cuda/cuda_gpu_executor.cc:980] successful NUMA node read from SysFS had negative value (-1), but there must be at least one NUMA node, so returning NUMA node zero\n",
      "2022-09-17 20:17:41.744995: I tensorflow/core/platform/cpu_feature_guard.cc:193] This TensorFlow binary is optimized with oneAPI Deep Neural Network Library (oneDNN) to use the following CPU instructions in performance-critical operations:  AVX2 FMA\n",
      "To enable them in other operations, rebuild TensorFlow with the appropriate compiler flags.\n",
      "2022-09-17 20:17:41.746527: I tensorflow/stream_executor/cuda/cuda_gpu_executor.cc:980] successful NUMA node read from SysFS had negative value (-1), but there must be at least one NUMA node, so returning NUMA node zero\n",
      "2022-09-17 20:17:41.746744: I tensorflow/stream_executor/cuda/cuda_gpu_executor.cc:980] successful NUMA node read from SysFS had negative value (-1), but there must be at least one NUMA node, so returning NUMA node zero\n",
      "2022-09-17 20:17:41.746924: I tensorflow/stream_executor/cuda/cuda_gpu_executor.cc:980] successful NUMA node read from SysFS had negative value (-1), but there must be at least one NUMA node, so returning NUMA node zero\n",
      "2022-09-17 20:17:42.519719: I tensorflow/stream_executor/cuda/cuda_gpu_executor.cc:980] successful NUMA node read from SysFS had negative value (-1), but there must be at least one NUMA node, so returning NUMA node zero\n",
      "2022-09-17 20:17:42.519994: I tensorflow/stream_executor/cuda/cuda_gpu_executor.cc:980] successful NUMA node read from SysFS had negative value (-1), but there must be at least one NUMA node, so returning NUMA node zero\n",
      "2022-09-17 20:17:42.520219: I tensorflow/stream_executor/cuda/cuda_gpu_executor.cc:980] successful NUMA node read from SysFS had negative value (-1), but there must be at least one NUMA node, so returning NUMA node zero\n",
      "2022-09-17 20:17:42.520421: I tensorflow/core/common_runtime/gpu/gpu_device.cc:1616] Created device /job:localhost/replica:0/task:0/device:GPU:0 with 4205 MB memory:  -> device: 0, name: NVIDIA GeForce GTX 1660, pci bus id: 0000:0e:00.0, compute capability: 7.5\n"
     ]
    }
   ],
   "source": [
    "# Создаем последовательную модель\n",
    "model = Sequential()\n",
    "# Первый сверточный слой\n",
    "model.add(Convolution2D(32, (3, 3), padding='same', input_shape=(32, 32, 3), activation='relu'))\n",
    "# Второй сверточный слой\n",
    "model.add(Convolution2D(32, (3, 3), activation='relu'))\n",
    "# Первый слой подвыборки\n",
    "model.add(MaxPooling2D((2, 2), padding='same'))\n",
    "# Слой регуляризации Dropout\n",
    "model.add(Dropout(0.25))"
   ]
  },
  {
   "cell_type": "code",
   "execution_count": 12,
   "id": "fb333c07",
   "metadata": {},
   "outputs": [],
   "source": [
    "# Третий сверточный слой\n",
    "model.add(Convolution2D(64, (3, 3), padding='same', activation='relu'))\n",
    "# Четвертый сверточный слой\n",
    "model.add(Convolution2D(64, (3, 3), activation='relu', padding='same'))\n",
    "# Второй слой подвыборки\n",
    "model.add(MaxPooling2D((2, 2), padding='same'))\n",
    "# Слой регуляризации Dropout\n",
    "model.add(Dropout(0.25))\n",
    "# Слой преобразования данных из 2D представления в плоское\n",
    "model.add(Flatten())\n",
    "# Полносвязный слой для классификации\n",
    "model.add(Dense(512, activation='relu'))\n",
    "# Слой регуляризации Dropout\n",
    "model.add(Dropout(0.5))\n",
    "# Выходной полносвязный слой\n",
    "model.add(Dense(nb_classes, activation='softmax'))"
   ]
  },
  {
   "cell_type": "code",
   "execution_count": 13,
   "id": "4ec7c677",
   "metadata": {
    "scrolled": false
   },
   "outputs": [
    {
     "name": "stdout",
     "output_type": "stream",
     "text": [
      "Model: \"sequential\"\n",
      "_________________________________________________________________\n",
      " Layer (type)                Output Shape              Param #   \n",
      "=================================================================\n",
      " conv2d (Conv2D)             (None, 32, 32, 32)        896       \n",
      "                                                                 \n",
      " conv2d_1 (Conv2D)           (None, 30, 30, 32)        9248      \n",
      "                                                                 \n",
      " max_pooling2d (MaxPooling2D  (None, 15, 15, 32)       0         \n",
      " )                                                               \n",
      "                                                                 \n",
      " dropout (Dropout)           (None, 15, 15, 32)        0         \n",
      "                                                                 \n",
      " conv2d_2 (Conv2D)           (None, 15, 15, 64)        18496     \n",
      "                                                                 \n",
      " conv2d_3 (Conv2D)           (None, 15, 15, 64)        36928     \n",
      "                                                                 \n",
      " max_pooling2d_1 (MaxPooling  (None, 8, 8, 64)         0         \n",
      " 2D)                                                             \n",
      "                                                                 \n",
      " dropout_1 (Dropout)         (None, 8, 8, 64)          0         \n",
      "                                                                 \n",
      " flatten (Flatten)           (None, 4096)              0         \n",
      "                                                                 \n",
      " dense (Dense)               (None, 512)               2097664   \n",
      "                                                                 \n",
      " dropout_2 (Dropout)         (None, 512)               0         \n",
      "                                                                 \n",
      " dense_1 (Dense)             (None, 10)                5130      \n",
      "                                                                 \n",
      "=================================================================\n",
      "Total params: 2,168,362\n",
      "Trainable params: 2,168,362\n",
      "Non-trainable params: 0\n",
      "_________________________________________________________________\n"
     ]
    }
   ],
   "source": [
    "model.summary()"
   ]
  },
  {
   "cell_type": "code",
   "execution_count": 14,
   "id": "cba73cb2",
   "metadata": {},
   "outputs": [],
   "source": [
    "model_copy= clone_model(model)\n",
    "model_copy.build()"
   ]
  },
  {
   "cell_type": "code",
   "execution_count": 15,
   "id": "ce5f20ba",
   "metadata": {},
   "outputs": [],
   "source": [
    "model_copy_big_batch = clone_model(model)\n",
    "model_copy_big_batch.build()"
   ]
  },
  {
   "cell_type": "code",
   "execution_count": 16,
   "id": "52c969b8",
   "metadata": {},
   "outputs": [
    {
     "name": "stdout",
     "output_type": "stream",
     "text": [
      "Model: \"sequential\"\n",
      "_________________________________________________________________\n",
      " Layer (type)                Output Shape              Param #   \n",
      "=================================================================\n",
      " conv2d (Conv2D)             (None, 32, 32, 32)        896       \n",
      "                                                                 \n",
      " conv2d_1 (Conv2D)           (None, 30, 30, 32)        9248      \n",
      "                                                                 \n",
      " max_pooling2d (MaxPooling2D  (None, 15, 15, 32)       0         \n",
      " )                                                               \n",
      "                                                                 \n",
      " dropout (Dropout)           (None, 15, 15, 32)        0         \n",
      "                                                                 \n",
      " conv2d_2 (Conv2D)           (None, 15, 15, 64)        18496     \n",
      "                                                                 \n",
      " conv2d_3 (Conv2D)           (None, 15, 15, 64)        36928     \n",
      "                                                                 \n",
      " max_pooling2d_1 (MaxPooling  (None, 8, 8, 64)         0         \n",
      " 2D)                                                             \n",
      "                                                                 \n",
      " dropout_1 (Dropout)         (None, 8, 8, 64)          0         \n",
      "                                                                 \n",
      " flatten (Flatten)           (None, 4096)              0         \n",
      "                                                                 \n",
      " dense (Dense)               (None, 512)               2097664   \n",
      "                                                                 \n",
      " dropout_2 (Dropout)         (None, 512)               0         \n",
      "                                                                 \n",
      " dense_1 (Dense)             (None, 10)                5130      \n",
      "                                                                 \n",
      "=================================================================\n",
      "Total params: 2,168,362\n",
      "Trainable params: 2,168,362\n",
      "Non-trainable params: 0\n",
      "_________________________________________________________________\n"
     ]
    }
   ],
   "source": [
    "model_copy.summary()"
   ]
  },
  {
   "cell_type": "code",
   "execution_count": 17,
   "id": "cccdec99",
   "metadata": {},
   "outputs": [],
   "source": [
    "# Задаем параметры оптимизации\n",
    "# sgd = SGD(lr=0.01, decay=1e-6, momentum=0.9, nesterov=True)\n",
    "model_copy.compile(loss='categorical_crossentropy',\n",
    "              optimizer='sgd',\n",
    "              metrics=['accuracy'])"
   ]
  },
  {
   "cell_type": "code",
   "execution_count": 18,
   "id": "6b5974e4",
   "metadata": {
    "scrolled": false
   },
   "outputs": [
    {
     "name": "stdout",
     "output_type": "stream",
     "text": [
      "Epoch 1/25\n"
     ]
    },
    {
     "name": "stderr",
     "output_type": "stream",
     "text": [
      "2022-09-17 20:17:44.003502: I tensorflow/stream_executor/cuda/cuda_dnn.cc:384] Loaded cuDNN version 8500\n"
     ]
    },
    {
     "name": "stdout",
     "output_type": "stream",
     "text": [
      "1407/1407 [==============================] - 8s 5ms/step - loss: nan - accuracy: 0.1002 - val_loss: nan - val_accuracy: 0.0986\n",
      "Epoch 2/25\n",
      "1407/1407 [==============================] - 6s 5ms/step - loss: nan - accuracy: 0.1002 - val_loss: nan - val_accuracy: 0.0986\n",
      "Epoch 3/25\n",
      "1407/1407 [==============================] - 6s 5ms/step - loss: nan - accuracy: 0.1002 - val_loss: nan - val_accuracy: 0.0986\n",
      "Epoch 4/25\n",
      "1407/1407 [==============================] - 6s 5ms/step - loss: nan - accuracy: 0.1002 - val_loss: nan - val_accuracy: 0.0986\n",
      "Epoch 5/25\n",
      "1407/1407 [==============================] - 6s 5ms/step - loss: nan - accuracy: 0.1002 - val_loss: nan - val_accuracy: 0.0986\n",
      "Epoch 6/25\n",
      "1407/1407 [==============================] - 6s 5ms/step - loss: nan - accuracy: 0.1002 - val_loss: nan - val_accuracy: 0.0986\n",
      "Epoch 7/25\n",
      "1407/1407 [==============================] - 6s 5ms/step - loss: nan - accuracy: 0.1002 - val_loss: nan - val_accuracy: 0.0986\n",
      "Epoch 8/25\n",
      "1407/1407 [==============================] - 7s 5ms/step - loss: nan - accuracy: 0.1002 - val_loss: nan - val_accuracy: 0.0986\n",
      "Epoch 9/25\n",
      "1407/1407 [==============================] - 7s 5ms/step - loss: nan - accuracy: 0.1002 - val_loss: nan - val_accuracy: 0.0986\n",
      "Epoch 10/25\n",
      "1407/1407 [==============================] - 6s 5ms/step - loss: nan - accuracy: 0.1002 - val_loss: nan - val_accuracy: 0.0986\n",
      "Epoch 11/25\n",
      "1407/1407 [==============================] - 6s 5ms/step - loss: nan - accuracy: 0.1002 - val_loss: nan - val_accuracy: 0.0986\n",
      "Epoch 12/25\n",
      "1407/1407 [==============================] - 7s 5ms/step - loss: nan - accuracy: 0.1002 - val_loss: nan - val_accuracy: 0.0986\n",
      "Epoch 13/25\n",
      "1407/1407 [==============================] - 7s 5ms/step - loss: nan - accuracy: 0.1002 - val_loss: nan - val_accuracy: 0.0986\n",
      "Epoch 14/25\n",
      "1407/1407 [==============================] - 6s 5ms/step - loss: nan - accuracy: 0.1002 - val_loss: nan - val_accuracy: 0.0986\n",
      "Epoch 15/25\n",
      "1407/1407 [==============================] - 6s 5ms/step - loss: nan - accuracy: 0.1002 - val_loss: nan - val_accuracy: 0.0986\n",
      "Epoch 16/25\n",
      "1407/1407 [==============================] - 6s 5ms/step - loss: nan - accuracy: 0.1002 - val_loss: nan - val_accuracy: 0.0986\n",
      "Epoch 17/25\n",
      "1407/1407 [==============================] - 6s 5ms/step - loss: nan - accuracy: 0.1002 - val_loss: nan - val_accuracy: 0.0986\n",
      "Epoch 18/25\n",
      "1407/1407 [==============================] - 6s 5ms/step - loss: nan - accuracy: 0.1002 - val_loss: nan - val_accuracy: 0.0986\n",
      "Epoch 19/25\n",
      "1407/1407 [==============================] - 6s 5ms/step - loss: nan - accuracy: 0.1002 - val_loss: nan - val_accuracy: 0.0986\n",
      "Epoch 20/25\n",
      "1407/1407 [==============================] - 6s 5ms/step - loss: nan - accuracy: 0.1002 - val_loss: nan - val_accuracy: 0.0986\n",
      "Epoch 21/25\n",
      "1407/1407 [==============================] - 6s 5ms/step - loss: nan - accuracy: 0.1002 - val_loss: nan - val_accuracy: 0.0986\n",
      "Epoch 22/25\n",
      "1407/1407 [==============================] - 6s 5ms/step - loss: nan - accuracy: 0.1002 - val_loss: nan - val_accuracy: 0.0986\n",
      "Epoch 23/25\n",
      "1407/1407 [==============================] - 6s 5ms/step - loss: nan - accuracy: 0.1002 - val_loss: nan - val_accuracy: 0.0986\n",
      "Epoch 24/25\n",
      "1407/1407 [==============================] - 6s 5ms/step - loss: nan - accuracy: 0.1002 - val_loss: nan - val_accuracy: 0.0986\n",
      "Epoch 25/25\n",
      "1407/1407 [==============================] - 7s 5ms/step - loss: nan - accuracy: 0.1002 - val_loss: nan - val_accuracy: 0.0986\n",
      "Точность работы на тестовых данных: 10.00%\n"
     ]
    }
   ],
   "source": [
    "# Обучаем модель без нормализации\n",
    "NON_history = model_copy.fit(NON_X_train, Y_train,\n",
    "              batch_size=batch_size,\n",
    "              epochs=nb_epoch,\n",
    "              validation_split=0.1,\n",
    "              shuffle=True)\n",
    "\n",
    "# Оцениваем качество обучения модели на тестовых данных\n",
    "NON_scores = model_copy.evaluate(NON_X_test, Y_test, verbose=0)\n",
    "print(\"Точность работы на тестовых данных: %.2f%%\" % (NON_scores[1]*100))"
   ]
  },
  {
   "cell_type": "code",
   "execution_count": 19,
   "id": "bf913ad4",
   "metadata": {},
   "outputs": [],
   "source": [
    "# Задаем параметры оптимизации\n",
    "# sgd = SGD(lr=0.01, decay=1e-6, momentum=0.9, nesterov=True)\n",
    "model_copy_big_batch.compile(loss='categorical_crossentropy',\n",
    "              optimizer='sgd',\n",
    "              metrics=['accuracy'])"
   ]
  },
  {
   "cell_type": "code",
   "execution_count": 20,
   "id": "f2ef4183",
   "metadata": {
    "scrolled": false
   },
   "outputs": [
    {
     "name": "stdout",
     "output_type": "stream",
     "text": [
      "Epoch 1/25\n",
      "90/90 [==============================] - 4s 38ms/step - loss: 19.7372 - accuracy: 0.1037 - val_loss: 2.3021 - val_accuracy: 0.1094\n",
      "Epoch 2/25\n",
      "90/90 [==============================] - 3s 36ms/step - loss: 2.3027 - accuracy: 0.1114 - val_loss: 2.3019 - val_accuracy: 0.1078\n",
      "Epoch 3/25\n",
      "90/90 [==============================] - 3s 37ms/step - loss: 2.3024 - accuracy: 0.1151 - val_loss: 2.3019 - val_accuracy: 0.1076\n",
      "Epoch 4/25\n",
      "90/90 [==============================] - 3s 37ms/step - loss: 2.3022 - accuracy: 0.1088 - val_loss: 2.3019 - val_accuracy: 0.1140\n",
      "Epoch 5/25\n",
      "90/90 [==============================] - 3s 36ms/step - loss: 2.3019 - accuracy: 0.1113 - val_loss: 2.3020 - val_accuracy: 0.1140\n",
      "Epoch 6/25\n",
      "90/90 [==============================] - 3s 36ms/step - loss: 2.3019 - accuracy: 0.1107 - val_loss: 2.3018 - val_accuracy: 0.1162\n",
      "Epoch 7/25\n",
      "90/90 [==============================] - 3s 36ms/step - loss: 2.3017 - accuracy: 0.1127 - val_loss: 2.3019 - val_accuracy: 0.1154\n",
      "Epoch 8/25\n",
      "90/90 [==============================] - 3s 37ms/step - loss: 2.3016 - accuracy: 0.1128 - val_loss: 2.3021 - val_accuracy: 0.1184\n",
      "Epoch 9/25\n",
      "90/90 [==============================] - 3s 37ms/step - loss: 2.3017 - accuracy: 0.1173 - val_loss: 2.3016 - val_accuracy: 0.1114\n",
      "Epoch 10/25\n",
      "90/90 [==============================] - 3s 37ms/step - loss: 2.3014 - accuracy: 0.1141 - val_loss: 2.3013 - val_accuracy: 0.1350\n",
      "Epoch 11/25\n",
      "90/90 [==============================] - 3s 37ms/step - loss: 2.3010 - accuracy: 0.1187 - val_loss: 2.3011 - val_accuracy: 0.1364\n",
      "Epoch 12/25\n",
      "90/90 [==============================] - 3s 37ms/step - loss: 2.3006 - accuracy: 0.1217 - val_loss: 2.3006 - val_accuracy: 0.1290\n",
      "Epoch 13/25\n",
      "90/90 [==============================] - 3s 36ms/step - loss: 2.3004 - accuracy: 0.1178 - val_loss: 2.3004 - val_accuracy: 0.1518\n",
      "Epoch 14/25\n",
      "90/90 [==============================] - 3s 36ms/step - loss: 2.2998 - accuracy: 0.1220 - val_loss: 2.2997 - val_accuracy: 0.1612\n",
      "Epoch 15/25\n",
      "90/90 [==============================] - 3s 36ms/step - loss: 2.2992 - accuracy: 0.1204 - val_loss: 2.2994 - val_accuracy: 0.1540\n",
      "Epoch 16/25\n",
      "90/90 [==============================] - 3s 36ms/step - loss: 2.2992 - accuracy: 0.1216 - val_loss: 2.2988 - val_accuracy: 0.1596\n",
      "Epoch 17/25\n",
      "90/90 [==============================] - 3s 36ms/step - loss: 2.2986 - accuracy: 0.1220 - val_loss: 2.2986 - val_accuracy: 0.1560\n",
      "Epoch 18/25\n",
      "90/90 [==============================] - 3s 36ms/step - loss: 2.2984 - accuracy: 0.1231 - val_loss: 2.2979 - val_accuracy: 0.1524\n",
      "Epoch 19/25\n",
      "90/90 [==============================] - 3s 36ms/step - loss: 2.2979 - accuracy: 0.1276 - val_loss: 2.2972 - val_accuracy: 0.1550\n",
      "Epoch 20/25\n",
      "90/90 [==============================] - 3s 37ms/step - loss: 2.2972 - accuracy: 0.1269 - val_loss: 2.2965 - val_accuracy: 0.1536\n",
      "Epoch 21/25\n",
      "90/90 [==============================] - 3s 36ms/step - loss: 2.2965 - accuracy: 0.1291 - val_loss: 2.2963 - val_accuracy: 0.1484\n",
      "Epoch 22/25\n",
      "90/90 [==============================] - 3s 36ms/step - loss: 2.2960 - accuracy: 0.1277 - val_loss: 2.2951 - val_accuracy: 0.1506\n",
      "Epoch 23/25\n",
      "90/90 [==============================] - 3s 36ms/step - loss: 2.2955 - accuracy: 0.1286 - val_loss: 2.2942 - val_accuracy: 0.1348\n",
      "Epoch 24/25\n",
      "90/90 [==============================] - 3s 36ms/step - loss: 2.2946 - accuracy: 0.1293 - val_loss: 2.2939 - val_accuracy: 0.1402\n",
      "Epoch 25/25\n",
      "90/90 [==============================] - 3s 36ms/step - loss: 2.2937 - accuracy: 0.1312 - val_loss: 2.2931 - val_accuracy: 0.1328\n",
      "Точность работы на тестовых данных: 13.98%\n"
     ]
    }
   ],
   "source": [
    "# Обучаем модель без нормализации на пакетах побольше\n",
    "NON_big_batch_history = model_copy_big_batch.fit(NON_X_train, Y_train,\n",
    "              batch_size=500,\n",
    "              epochs=nb_epoch,\n",
    "              validation_split=0.1,\n",
    "              shuffle=True)\n",
    "\n",
    "# Оцениваем качество обучения модели на тестовых данных\n",
    "NON_scores = model_copy_big_batch.evaluate(NON_X_test, Y_test, verbose=0)\n",
    "print(\"Точность работы на тестовых данных: %.2f%%\" % (NON_scores[1]*100))"
   ]
  },
  {
   "cell_type": "code",
   "execution_count": 21,
   "id": "09e5ff00",
   "metadata": {},
   "outputs": [],
   "source": [
    "# Задаем параметры оптимизации\n",
    "# sgd = SGD(lr=0.01, decay=1e-6, momentum=0.9, nesterov=True)\n",
    "model.compile(loss='categorical_crossentropy',\n",
    "              optimizer='sgd',\n",
    "              metrics=['accuracy'])"
   ]
  },
  {
   "cell_type": "code",
   "execution_count": 22,
   "id": "c8e3975a",
   "metadata": {
    "scrolled": false
   },
   "outputs": [
    {
     "name": "stdout",
     "output_type": "stream",
     "text": [
      "Epoch 1/25\n",
      "1407/1407 [==============================] - 7s 5ms/step - loss: 2.0922 - accuracy: 0.2277 - val_loss: 1.8596 - val_accuracy: 0.3376\n",
      "Epoch 2/25\n",
      "1407/1407 [==============================] - 7s 5ms/step - loss: 1.7796 - accuracy: 0.3584 - val_loss: 1.6153 - val_accuracy: 0.4248\n",
      "Epoch 3/25\n",
      "1407/1407 [==============================] - 6s 5ms/step - loss: 1.6051 - accuracy: 0.4178 - val_loss: 2.2038 - val_accuracy: 0.2966\n",
      "Epoch 4/25\n",
      "1407/1407 [==============================] - 6s 5ms/step - loss: 1.5069 - accuracy: 0.4555 - val_loss: 1.7014 - val_accuracy: 0.4100\n",
      "Epoch 5/25\n",
      "1407/1407 [==============================] - 6s 5ms/step - loss: 1.4067 - accuracy: 0.4923 - val_loss: 1.2924 - val_accuracy: 0.5392\n",
      "Epoch 6/25\n",
      "1407/1407 [==============================] - 6s 5ms/step - loss: 1.3192 - accuracy: 0.5276 - val_loss: 1.1933 - val_accuracy: 0.5758\n",
      "Epoch 7/25\n",
      "1407/1407 [==============================] - 7s 5ms/step - loss: 1.2505 - accuracy: 0.5535 - val_loss: 1.1106 - val_accuracy: 0.6162\n",
      "Epoch 8/25\n",
      "1407/1407 [==============================] - 7s 5ms/step - loss: 1.1860 - accuracy: 0.5758 - val_loss: 1.2094 - val_accuracy: 0.5658\n",
      "Epoch 9/25\n",
      "1407/1407 [==============================] - 7s 5ms/step - loss: 1.1312 - accuracy: 0.5958 - val_loss: 1.1639 - val_accuracy: 0.5864\n",
      "Epoch 10/25\n",
      "1407/1407 [==============================] - 7s 5ms/step - loss: 1.0785 - accuracy: 0.6172 - val_loss: 0.9541 - val_accuracy: 0.6726\n",
      "Epoch 11/25\n",
      "1407/1407 [==============================] - 6s 5ms/step - loss: 1.0333 - accuracy: 0.6328 - val_loss: 0.9224 - val_accuracy: 0.6816\n",
      "Epoch 12/25\n",
      "1407/1407 [==============================] - 6s 5ms/step - loss: 0.9871 - accuracy: 0.6506 - val_loss: 1.0019 - val_accuracy: 0.6492\n",
      "Epoch 13/25\n",
      "1407/1407 [==============================] - 6s 5ms/step - loss: 0.9488 - accuracy: 0.6636 - val_loss: 0.9125 - val_accuracy: 0.6850\n",
      "Epoch 14/25\n",
      "1407/1407 [==============================] - 6s 5ms/step - loss: 0.9170 - accuracy: 0.6761 - val_loss: 1.0111 - val_accuracy: 0.6536\n",
      "Epoch 15/25\n",
      "1407/1407 [==============================] - 6s 5ms/step - loss: 0.8807 - accuracy: 0.6860 - val_loss: 0.8249 - val_accuracy: 0.7116\n",
      "Epoch 16/25\n",
      "1407/1407 [==============================] - 7s 5ms/step - loss: 0.8485 - accuracy: 0.6995 - val_loss: 0.7813 - val_accuracy: 0.7278\n",
      "Epoch 17/25\n",
      "1407/1407 [==============================] - 7s 5ms/step - loss: 0.8237 - accuracy: 0.7076 - val_loss: 0.7765 - val_accuracy: 0.7350\n",
      "Epoch 18/25\n",
      "1407/1407 [==============================] - 7s 5ms/step - loss: 0.7951 - accuracy: 0.7199 - val_loss: 0.7672 - val_accuracy: 0.7318\n",
      "Epoch 19/25\n",
      "1407/1407 [==============================] - 7s 5ms/step - loss: 0.7695 - accuracy: 0.7284 - val_loss: 0.8785 - val_accuracy: 0.6972\n",
      "Epoch 20/25\n",
      "1407/1407 [==============================] - 6s 5ms/step - loss: 0.7462 - accuracy: 0.7372 - val_loss: 0.7822 - val_accuracy: 0.7290\n",
      "Epoch 21/25\n",
      "1407/1407 [==============================] - 6s 4ms/step - loss: 0.7242 - accuracy: 0.7424 - val_loss: 0.7389 - val_accuracy: 0.7438\n",
      "Epoch 22/25\n",
      "1407/1407 [==============================] - 6s 4ms/step - loss: 0.7082 - accuracy: 0.7512 - val_loss: 0.6859 - val_accuracy: 0.7662\n",
      "Epoch 23/25\n",
      "1407/1407 [==============================] - 7s 5ms/step - loss: 0.6859 - accuracy: 0.7581 - val_loss: 0.7703 - val_accuracy: 0.7336\n",
      "Epoch 24/25\n",
      "1407/1407 [==============================] - 7s 5ms/step - loss: 0.6593 - accuracy: 0.7665 - val_loss: 0.7345 - val_accuracy: 0.7484\n",
      "Epoch 25/25\n",
      "1407/1407 [==============================] - 7s 5ms/step - loss: 0.6436 - accuracy: 0.7745 - val_loss: 0.6495 - val_accuracy: 0.7778\n",
      "Точность работы на тестовых данных: 75.85%\n"
     ]
    }
   ],
   "source": [
    "# Обучаем модель c нормализацией\n",
    "history = model.fit(X_train, Y_train,\n",
    "              batch_size=batch_size,\n",
    "              epochs=nb_epoch,\n",
    "              validation_split=0.1,\n",
    "              shuffle=True)\n",
    "\n",
    "# Оцениваем качество обучения модели на тестовых данных\n",
    "scores = model.evaluate(X_test, Y_test, verbose=0)\n",
    "print(\"Точность работы на тестовых данных: %.2f%%\" % (scores[1]*100))"
   ]
  },
  {
   "cell_type": "code",
   "execution_count": 23,
   "id": "37844d81",
   "metadata": {},
   "outputs": [],
   "source": [
    "%matplotlib inline\n",
    "import matplotlib.pyplot as plt"
   ]
  },
  {
   "cell_type": "code",
   "execution_count": 30,
   "id": "12b7a228",
   "metadata": {},
   "outputs": [
    {
     "data": {
      "image/png": "[encoded data removed]",
      "text/plain": [
       "<Figure size 1440x1080 with 1 Axes>"
      ]
     },
     "metadata": {
      "needs_background": "light"
     },
     "output_type": "display_data"
    }
   ],
   "source": [
    "# Обучение и проверка точности значений\n",
    "plt.figure(figsize=(20, 15))\n",
    "plt.plot(\n",
    "    history.history['accuracy'],\n",
    "    color=\"deeppink\",\n",
    "    label=\"accuracy normal\",\n",
    "    linewidth=2,\n",
    ")\n",
    "\n",
    "plt.plot(\n",
    "    history.history['val_accuracy'],\n",
    "    color=\"deeppink\",\n",
    "    linestyle=\":\",\n",
    "    label='val_accuracy normal',\n",
    "    linewidth=2,\n",
    ")\n",
    "\n",
    "plt.plot(\n",
    "    NON_history.history['accuracy'],\n",
    "    color=\"navy\",\n",
    "    label='accuracy non_normal',\n",
    "    linewidth=2,\n",
    ")\n",
    "\n",
    "plt.plot(\n",
    "    NON_history.history['val_accuracy'],\n",
    "    color=\"navy\",\n",
    "    linestyle=\":\",\n",
    "    label='val_accuracy non_normal',\n",
    "    linewidth=2,\n",
    ")\n",
    "\n",
    "plt.plot(\n",
    "    NON_big_batch_history.history['accuracy'],\n",
    "    color=\"green\",\n",
    "    label='accuracy non_normal_big_batch',\n",
    "    linewidth=2,\n",
    ")\n",
    "\n",
    "plt.plot(\n",
    "    NON_big_batch_history.history['val_accuracy'],\n",
    "    color=\"green\",\n",
    "    linestyle=\":\",\n",
    "    label='val_accuracy non_normal_big_batch',\n",
    "    linewidth=2,\n",
    ")\n",
    "\n",
    "plt.title('Models accuracy')\n",
    "\n",
    "plt.ylabel('Accuracy')\n",
    "\n",
    "plt.legend(loc=\"lower right\")\n",
    "plt.xlabel('Epoch')\n",
    "\n",
    "plt.show()\n"
   ]
  },
  {
   "cell_type": "code",
   "execution_count": 29,
   "id": "8eeb72ab",
   "metadata": {},
   "outputs": [
    {
     "data": {
      "image/png": "[encoded data removed]",
      "text/plain": [
       "<Figure size 1440x1080 with 1 Axes>"
      ]
     },
     "metadata": {
      "needs_background": "light"
     },
     "output_type": "display_data"
    }
   ],
   "source": [
    "# Обучение и проверка величины потерь\n",
    "plt.figure(figsize=(20, 15))\n",
    "\n",
    "plt.plot(\n",
    "    history.history['loss'],\n",
    "    color=\"deeppink\",\n",
    "    label=\"loss normal\",\n",
    "    linewidth=2,\n",
    ")\n",
    "\n",
    "plt.plot(\n",
    "    history.history['val_loss'],\n",
    "    color=\"deeppink\",\n",
    "    linestyle=\":\",\n",
    "    label='val_loss normal',\n",
    "    linewidth=2,\n",
    ")\n",
    "\n",
    "plt.plot(\n",
    "    NON_history.history['loss'],\n",
    "    color=\"navy\",\n",
    "    label='loss non_normal',\n",
    "    linewidth=2,\n",
    ")\n",
    "\n",
    "plt.plot(\n",
    "    NON_history.history['val_loss'],\n",
    "    color=\"navy\",\n",
    "    linestyle=\":\",\n",
    "    label='val_loss non_normal',\n",
    "    linewidth=2,\n",
    ")\n",
    "\n",
    "plt.plot(\n",
    "    NON_big_batch_history.history['loss'],\n",
    "    color=\"green\",\n",
    "    label='loss non_normal_big_batch',\n",
    "    linewidth=2,\n",
    ")\n",
    "\n",
    "plt.plot(\n",
    "    NON_big_batch_history.history['val_loss'],\n",
    "    color=\"green\",\n",
    "    linestyle=\":\",\n",
    "    label='val_loss non_normal_big_batch',\n",
    "    linewidth=2,\n",
    ")\n",
    "\n",
    "plt.title('Models loss')\n",
    "\n",
    "plt.ylabel('Loss')\n",
    "\n",
    "plt.xlabel('Epoch')\n",
    "\n",
    "plt.legend(loc=\"lower right\")\n",
    "\n",
    "plt.show()"
   ]
  }
 ],
 "metadata": {
  "kernelspec": {
   "display_name": "Python 3 (ipykernel)",
   "language": "python",
   "name": "python3"
  },
  "language_info": {
   "codemirror_mode": {
    "name": "ipython",
    "version": 3
   },
   "file_extension": ".py",
   "mimetype": "text/x-python",
   "name": "python",
   "nbconvert_exporter": "python",
   "pygments_lexer": "ipython3",
   "version": "3.10.7"
  }
 },
 "nbformat": 4,
 "nbformat_minor": 5
}
