{
 "cells": [
  {
   "cell_type": "markdown",
   "id": "c5cb1cf3",
   "metadata": {},
   "source": [
    "# Часть 1 титаник."
   ]
  },
  {
   "cell_type": "code",
   "execution_count": 103,
   "id": "5314dc88",
   "metadata": {},
   "outputs": [
    {
     "ename": "ImportError",
     "evalue": "cannot import name 'explode' from 'pandas' (/home/lenow/.local/lib/python3.10/site-packages/pandas/__init__.py)",
     "output_type": "error",
     "traceback": [
      "\u001b[0;31m---------------------------------------------------------------------------\u001b[0m",
      "\u001b[0;31mImportError\u001b[0m                               Traceback (most recent call last)",
      "Input \u001b[0;32mIn [103]\u001b[0m, in \u001b[0;36m<module>\u001b[0;34m\u001b[0m\n\u001b[1;32m      1\u001b[0m \u001b[38;5;28;01mimport\u001b[39;00m \u001b[38;5;21;01mpandas\u001b[39;00m \u001b[38;5;28;01mas\u001b[39;00m \u001b[38;5;21;01mpd\u001b[39;00m\n\u001b[0;32m----> 2\u001b[0m \u001b[38;5;28;01mfrom\u001b[39;00m \u001b[38;5;21;01mpandas\u001b[39;00m \u001b[38;5;28;01mimport\u001b[39;00m explode \n\u001b[1;32m      3\u001b[0m astro_df \u001b[38;5;241m=\u001b[39m pd\u001b[38;5;241m.\u001b[39mread_csv(\u001b[38;5;124m'\u001b[39m\u001b[38;5;124mastronauts.csv\u001b[39m\u001b[38;5;124m'\u001b[39m, sep \u001b[38;5;241m=\u001b[39m \u001b[38;5;124m'\u001b[39m\u001b[38;5;124m,\u001b[39m\u001b[38;5;124m'\u001b[39m)\n\u001b[1;32m      4\u001b[0m \u001b[38;5;28;01mimport\u001b[39;00m \u001b[38;5;21;01mmatplotlib\u001b[39;00m\u001b[38;5;21;01m.\u001b[39;00m\u001b[38;5;21;01mpyplot\u001b[39;00m \u001b[38;5;28;01mas\u001b[39;00m \u001b[38;5;21;01mplt\u001b[39;00m\n",
      "\u001b[0;31mImportError\u001b[0m: cannot import name 'explode' from 'pandas' (/home/lenow/.local/lib/python3.10/site-packages/pandas/__init__.py)"
     ]
    }
   ],
   "source": [
    "import pandas as pd\n",
    "from pandas import explode \n",
    "astro_df = pd.read_csv('astronauts.csv', sep = ',')\n",
    "import matplotlib.pyplot as plt\n",
    "%pylab inline"
   ]
  },
  {
   "cell_type": "markdown",
   "id": "6c8d2f3d",
   "metadata": {},
   "source": [
    "### Какое количество мужчин и женщин ехало на корабле? "
   ]
  },
  {
   "cell_type": "code",
   "execution_count": 2,
   "id": "d5cf0e25",
   "metadata": {},
   "outputs": [
    {
     "name": "stdout",
     "output_type": "stream",
     "text": [
      "               Name    Year  Group   Status Birth Date    Birth Place Gender  \\\n",
      "0   Joseph M. Acaba  2004.0   19.0   Active  5/17/1967  Inglewood, CA   Male   \n",
      "1    Loren W. Acton     NaN    NaN  Retired   3/7/1936   Lewiston, MT   Male   \n",
      "2  James C. Adamson  1984.0   10.0  Retired   3/3/1946     Warsaw, NY   Male   \n",
      "3   Thomas D. Akers  1987.0   12.0  Retired  5/20/1951  St. Louis, MO   Male   \n",
      "4       Buzz Aldrin  1963.0    3.0  Retired  1/20/1930  Montclair, NJ   Male   \n",
      "\n",
      "                                          Alma Mater     Undergraduate Major  \\\n",
      "0  University of California-Santa Barbara; Univer...                 Geology   \n",
      "1   Montana State University; University of Colorado     Engineering Physics   \n",
      "2          US Military Academy; Princeton University             Engineering   \n",
      "3                       University of Missouri-Rolla     Applied Mathematics   \n",
      "4                           US Military Academy; MIT  Mechanical Engineering   \n",
      "\n",
      "          Graduate Major Military Rank         Military Branch  Space Flights  \\\n",
      "0                Geology           NaN                     NaN              2   \n",
      "1          Solar Physics           NaN                     NaN              1   \n",
      "2  Aerospace Engineering       Colonel       US Army (Retired)              2   \n",
      "3    Applied Mathematics       Colonel  US Air Force (Retired)              4   \n",
      "4           Astronautics       Colonel  US Air Force (Retired)              2   \n",
      "\n",
      "   Space Flight (hr)  Space Walks  Space Walks (hr)  \\\n",
      "0               3307            2              13.0   \n",
      "1                190            0               0.0   \n",
      "2                334            0               0.0   \n",
      "3                814            4              29.0   \n",
      "4                289            2               8.0   \n",
      "\n",
      "                                            Missions Death Date Death Mission  \n",
      "0             STS-119 (Discovery), ISS-31/32 (Soyuz)        NaN           NaN  \n",
      "1                              STS 51-F (Challenger)        NaN           NaN  \n",
      "2               STS-28 (Columbia), STS-43 (Atlantis)        NaN           NaN  \n",
      "3  STS-41 (Discovery), STS-49 (Endeavor), STS-61 ...        NaN           NaN  \n",
      "4                               Gemini 12, Apollo 11        NaN           NaN  \n"
     ]
    }
   ],
   "source": [
    "print(astro_df.head())"
   ]
  },
  {
   "cell_type": "code",
   "execution_count": 3,
   "id": "eae6b531",
   "metadata": {},
   "outputs": [
    {
     "data": {
      "text/plain": [
       "Index(['Name', 'Year', 'Group', 'Status', 'Birth Date', 'Birth Place',\n",
       "       'Gender', 'Alma Mater', 'Undergraduate Major', 'Graduate Major',\n",
       "       'Military Rank', 'Military Branch', 'Space Flights',\n",
       "       'Space Flight (hr)', 'Space Walks', 'Space Walks (hr)', 'Missions',\n",
       "       'Death Date', 'Death Mission'],\n",
       "      dtype='object')"
      ]
     },
     "execution_count": 3,
     "metadata": {},
     "output_type": "execute_result"
    }
   ],
   "source": [
    "astro_df.columns"
   ]
  },
  {
   "cell_type": "code",
   "execution_count": 4,
   "id": "be991fff",
   "metadata": {},
   "outputs": [
    {
     "data": {
      "text/html": [
       "<div>\n",
       "<style scoped>\n",
       "    .dataframe tbody tr th:only-of-type {\n",
       "        vertical-align: middle;\n",
       "    }\n",
       "\n",
       "    .dataframe tbody tr th {\n",
       "        vertical-align: top;\n",
       "    }\n",
       "\n",
       "    .dataframe thead th {\n",
       "        text-align: right;\n",
       "    }\n",
       "</style>\n",
       "<table border=\"1\" class=\"dataframe\">\n",
       "  <thead>\n",
       "    <tr style=\"text-align: right;\">\n",
       "      <th></th>\n",
       "      <th>Name</th>\n",
       "      <th>Year</th>\n",
       "      <th>Group</th>\n",
       "      <th>Status</th>\n",
       "      <th>Birth Date</th>\n",
       "      <th>Birth Place</th>\n",
       "      <th>Gender</th>\n",
       "      <th>Alma Mater</th>\n",
       "      <th>Undergraduate Major</th>\n",
       "      <th>Graduate Major</th>\n",
       "      <th>Military Rank</th>\n",
       "      <th>Military Branch</th>\n",
       "      <th>Space Flights</th>\n",
       "      <th>Space Flight (hr)</th>\n",
       "      <th>Space Walks</th>\n",
       "      <th>Space Walks (hr)</th>\n",
       "      <th>Missions</th>\n",
       "      <th>Death Date</th>\n",
       "      <th>Death Mission</th>\n",
       "    </tr>\n",
       "  </thead>\n",
       "  <tbody>\n",
       "    <tr>\n",
       "      <th>203</th>\n",
       "      <td>Michael E. Lopez-Alegria</td>\n",
       "      <td>1992.0</td>\n",
       "      <td>14.0</td>\n",
       "      <td>Retired</td>\n",
       "      <td>5/30/1958</td>\n",
       "      <td>Madrid, Spain</td>\n",
       "      <td>Male</td>\n",
       "      <td>US Naval Academy; US Naval Postgraduate School</td>\n",
       "      <td>Systems Engineering</td>\n",
       "      <td>Aeronautical Engineering</td>\n",
       "      <td>Captain</td>\n",
       "      <td>US Navy (Retired)</td>\n",
       "      <td>3</td>\n",
       "      <td>6190</td>\n",
       "      <td>10</td>\n",
       "      <td>67.0</td>\n",
       "      <td>STS-73 (Columbia), STS-92 (Discovery), STS-113...</td>\n",
       "      <td>NaN</td>\n",
       "      <td>NaN</td>\n",
       "    </tr>\n",
       "  </tbody>\n",
       "</table>\n",
       "</div>"
      ],
      "text/plain": [
       "                         Name    Year  Group   Status Birth Date  \\\n",
       "203  Michael E. Lopez-Alegria  1992.0   14.0  Retired  5/30/1958   \n",
       "\n",
       "       Birth Place Gender                                      Alma Mater  \\\n",
       "203  Madrid, Spain   Male  US Naval Academy; US Naval Postgraduate School   \n",
       "\n",
       "     Undergraduate Major            Graduate Major Military Rank  \\\n",
       "203  Systems Engineering  Aeronautical Engineering       Captain   \n",
       "\n",
       "       Military Branch  Space Flights  Space Flight (hr)  Space Walks  \\\n",
       "203  US Navy (Retired)              3               6190           10   \n",
       "\n",
       "     Space Walks (hr)                                           Missions  \\\n",
       "203              67.0  STS-73 (Columbia), STS-92 (Discovery), STS-113...   \n",
       "\n",
       "    Death Date Death Mission  \n",
       "203        NaN           NaN  "
      ]
     },
     "execution_count": 4,
     "metadata": {},
     "output_type": "execute_result"
    }
   ],
   "source": [
    "astro_df.sort_values(by=['Space Walks (hr)'], ascending=False).head(1)\n"
   ]
  },
  {
   "cell_type": "code",
   "execution_count": 5,
   "id": "bb5a08d8",
   "metadata": {},
   "outputs": [
    {
     "data": {
      "text/plain": [
       "<AxesSubplot:xlabel='Name'>"
      ]
     },
     "execution_count": 5,
     "metadata": {},
     "output_type": "execute_result"
    },
    {
     "data": {
      "image/png": "[encoded data removed]",
      "text/plain": [
       "<Figure size 1440x720 with 1 Axes>"
      ]
     },
     "metadata": {
      "needs_background": "light"
     },
     "output_type": "display_data"
    }
   ],
   "source": [
    "top_astro_df = astro_df.sort_values(by=\"Space Walks (hr)\", ascending=False)\n",
    "top_astro_df = top_astro_df[0:10]\n",
    "top_astro_df.plot(x=\"Name\", y=\"Space Walks (hr)\", kind=\"bar\", rot=5, fontsize=11, figsize=(20, 10))"
   ]
  },
  {
   "cell_type": "markdown",
   "id": "d51fcb6a",
   "metadata": {},
   "source": [
    "### №2"
   ]
  },
  {
   "cell_type": "code",
   "execution_count": 6,
   "id": "32af2c2c",
   "metadata": {},
   "outputs": [
    {
     "data": {
      "text/plain": [
       "0    University of California-Santa Barbara; Univer...\n",
       "1     Montana State University; University of Colorado\n",
       "2            US Military Academy; Princeton University\n",
       "3                         University of Missouri-Rolla\n",
       "4                             US Military Academy; MIT\n",
       "Name: Alma Mater, dtype: object"
      ]
     },
     "execution_count": 6,
     "metadata": {},
     "output_type": "execute_result"
    }
   ],
   "source": [
    "astro_df['Alma Mater'].head()"
   ]
  },
  {
   "cell_type": "code",
   "execution_count": 10,
   "id": "8d2f3c63",
   "metadata": {},
   "outputs": [],
   "source": [
    "def get_last_univer(univer):\n",
    "    return univer.split(';')[-1].strip()\n",
    "astro_df['Alma Mater'] = astro_df['Alma Mater'].apply(str).apply(get_last_univer)"
   ]
  },
  {
   "cell_type": "code",
   "execution_count": 34,
   "id": "c236a2a2",
   "metadata": {},
   "outputs": [
    {
     "data": {
      "text/html": [
       "<div>\n",
       "<style scoped>\n",
       "    .dataframe tbody tr th:only-of-type {\n",
       "        vertical-align: middle;\n",
       "    }\n",
       "\n",
       "    .dataframe tbody tr th {\n",
       "        vertical-align: top;\n",
       "    }\n",
       "\n",
       "    .dataframe thead th {\n",
       "        text-align: right;\n",
       "    }\n",
       "</style>\n",
       "<table border=\"1\" class=\"dataframe\">\n",
       "  <thead>\n",
       "    <tr style=\"text-align: right;\">\n",
       "      <th></th>\n",
       "      <th>Alma Mater</th>\n",
       "      <th>count</th>\n",
       "    </tr>\n",
       "  </thead>\n",
       "  <tbody>\n",
       "    <tr>\n",
       "      <th>58</th>\n",
       "      <td>US Naval Postgraduate School</td>\n",
       "      <td>28</td>\n",
       "    </tr>\n",
       "    <tr>\n",
       "      <th>30</th>\n",
       "      <td>MIT</td>\n",
       "      <td>28</td>\n",
       "    </tr>\n",
       "    <tr>\n",
       "      <th>45</th>\n",
       "      <td>Stanford University</td>\n",
       "      <td>16</td>\n",
       "    </tr>\n",
       "    <tr>\n",
       "      <th>40</th>\n",
       "      <td>Purdue University</td>\n",
       "      <td>15</td>\n",
       "    </tr>\n",
       "    <tr>\n",
       "      <th>57</th>\n",
       "      <td>US Naval Academy</td>\n",
       "      <td>12</td>\n",
       "    </tr>\n",
       "    <tr>\n",
       "      <th>77</th>\n",
       "      <td>University of Colorado</td>\n",
       "      <td>11</td>\n",
       "    </tr>\n",
       "    <tr>\n",
       "      <th>22</th>\n",
       "      <td>Georgia Institute of Technology</td>\n",
       "      <td>11</td>\n",
       "    </tr>\n",
       "    <tr>\n",
       "      <th>104</th>\n",
       "      <td>University of Texas</td>\n",
       "      <td>10</td>\n",
       "    </tr>\n",
       "    <tr>\n",
       "      <th>3</th>\n",
       "      <td>California Institute of Technology</td>\n",
       "      <td>9</td>\n",
       "    </tr>\n",
       "    <tr>\n",
       "      <th>110</th>\n",
       "      <td>University of Washington</td>\n",
       "      <td>8</td>\n",
       "    </tr>\n",
       "  </tbody>\n",
       "</table>\n",
       "</div>"
      ],
      "text/plain": [
       "                             Alma Mater  count\n",
       "58         US Naval Postgraduate School     28\n",
       "30                                  MIT     28\n",
       "45                  Stanford University     16\n",
       "40                    Purdue University     15\n",
       "57                     US Naval Academy     12\n",
       "77               University of Colorado     11\n",
       "22      Georgia Institute of Technology     11\n",
       "104                 University of Texas     10\n",
       "3    California Institute of Technology      9\n",
       "110            University of Washington      8"
      ]
     },
     "execution_count": 34,
     "metadata": {},
     "output_type": "execute_result"
    }
   ],
   "source": [
    "top_univercity = astro_df.groupby('Alma Mater', as_index=False)['Alma Mater'].value_counts()\n",
    "top_univercity = top_univercity.sort_values(by=[\"count\"], ascending = False).head(10)\n",
    "top_univercity.head(10)"
   ]
  },
  {
   "cell_type": "code",
   "execution_count": 35,
   "id": "87358a73",
   "metadata": {
    "scrolled": true
   },
   "outputs": [
    {
     "data": {
      "text/plain": [
       "<AxesSubplot:xlabel='Alma Mater'>"
      ]
     },
     "execution_count": 35,
     "metadata": {},
     "output_type": "execute_result"
    },
    {
     "data": {
      "image/png": "[encoded data removed]",
      "text/plain": [
       "<Figure size 1440x720 with 1 Axes>"
      ]
     },
     "metadata": {
      "needs_background": "light"
     },
     "output_type": "display_data"
    }
   ],
   "source": [
    "top_univercity.plot(x=\"Alma Mater\", y=\"count\", kind=\"bar\", rot=5, fontsize=11, figsize=(20, 10))"
   ]
  },
  {
   "cell_type": "markdown",
   "id": "d3a7a828",
   "metadata": {},
   "source": [
    "### №3"
   ]
  },
  {
   "cell_type": "code",
   "execution_count": 69,
   "id": "9d4bcd8e",
   "metadata": {
    "scrolled": true
   },
   "outputs": [
    {
     "name": "stdout",
     "output_type": "stream",
     "text": [
      "количество не военных 146\n",
      "Количество военных 211\n"
     ]
    }
   ],
   "source": [
    "not_military = len(astro_df[astro_df[\"Military Branch\"].isnull()])\n",
    "print(\"количество не военных\", not_military)\n",
    "print(\"Количество военных\", len(astro_df)-not_military)"
   ]
  },
  {
   "cell_type": "markdown",
   "id": "3723f6ee",
   "metadata": {},
   "source": [
    "### №4"
   ]
  },
  {
   "cell_type": "code",
   "execution_count": 48,
   "id": "fe372f4e",
   "metadata": {},
   "outputs": [
    {
     "data": {
      "text/html": [
       "<div>\n",
       "<style scoped>\n",
       "    .dataframe tbody tr th:only-of-type {\n",
       "        vertical-align: middle;\n",
       "    }\n",
       "\n",
       "    .dataframe tbody tr th {\n",
       "        vertical-align: top;\n",
       "    }\n",
       "\n",
       "    .dataframe thead th {\n",
       "        text-align: right;\n",
       "    }\n",
       "</style>\n",
       "<table border=\"1\" class=\"dataframe\">\n",
       "  <thead>\n",
       "    <tr style=\"text-align: right;\">\n",
       "      <th></th>\n",
       "      <th>Military Rank</th>\n",
       "      <th>count</th>\n",
       "    </tr>\n",
       "  </thead>\n",
       "  <tbody>\n",
       "    <tr>\n",
       "      <th>3</th>\n",
       "      <td>Colonel</td>\n",
       "      <td>94</td>\n",
       "    </tr>\n",
       "  </tbody>\n",
       "</table>\n",
       "</div>"
      ],
      "text/plain": [
       "  Military Rank  count\n",
       "3       Colonel     94"
      ]
     },
     "execution_count": 48,
     "metadata": {},
     "output_type": "execute_result"
    }
   ],
   "source": [
    "astro_df.groupby('Military Rank', as_index=False)['Military Rank'].value_counts().sort_values(by=[\"count\"], ascending = False).head(1)"
   ]
  },
  {
   "cell_type": "markdown",
   "id": "931b7e3e",
   "metadata": {},
   "source": [
    "### №5"
   ]
  },
  {
   "cell_type": "code",
   "execution_count": 62,
   "id": "4280252f",
   "metadata": {},
   "outputs": [
    {
     "name": "stdout",
     "output_type": "stream",
     "text": [
      "Количество женщин-астронавтов 50\n"
     ]
    }
   ],
   "source": [
    "count_woman = len(astro_df[astro_df[\"Gender\"] == \"Female\"])\n",
    "print(\"Количество женщин-астронавтов\", count_woman)"
   ]
  },
  {
   "cell_type": "markdown",
   "id": "03128205",
   "metadata": {},
   "source": [
    "### №6"
   ]
  },
  {
   "cell_type": "code",
   "execution_count": 61,
   "id": "d1d2b0dd",
   "metadata": {},
   "outputs": [
    {
     "name": "stdout",
     "output_type": "stream",
     "text": [
      "До удаления 357\n",
      "После удаления 335\n"
     ]
    }
   ],
   "source": [
    "print(\"До удаления\", len(astro_df))\n",
    "with_gradue = astro_df[~astro_df[\"Undergraduate Major\"].isnull()]\n",
    "print(\"После удаления\", len(with_gradue))"
   ]
  },
  {
   "cell_type": "markdown",
   "id": "8df0c426",
   "metadata": {},
   "source": [
    "### №7"
   ]
  },
  {
   "cell_type": "code",
   "execution_count": 122,
   "id": "02dbe227",
   "metadata": {},
   "outputs": [
    {
     "name": "stdout",
     "output_type": "stream",
     "text": [
      "Количество астронавтов родом из техасса 23\n"
     ]
    }
   ],
   "source": [
    "def get_place(birth_place):\n",
    "    return birth_place.split(',')[-1].strip()\n",
    "astro_df[\"Birth Index\"] = astro_df[\"Birth Place\"].apply(str).apply(get_place)\n",
    "print(\"Количество астронавтов родом из техасса\", len(astro_df[astro_df[\"Birth Index\"]==\"TX\"]))"
   ]
  },
  {
   "cell_type": "markdown",
   "id": "37cd5e93",
   "metadata": {},
   "source": [
    "### №8"
   ]
  },
  {
   "cell_type": "code",
   "execution_count": 83,
   "id": "4c4d9e87",
   "metadata": {},
   "outputs": [
    {
     "name": "stdout",
     "output_type": "stream",
     "text": [
      "Количество смертельных исходов во время миссии 16\n"
     ]
    }
   ],
   "source": [
    "count_death_miss = len(astro_df[~astro_df[\"Death Mission\"].isnull()])\n",
    "print(\"Количество смертельных исходов во время миссии\", count_death_miss)"
   ]
  },
  {
   "cell_type": "markdown",
   "id": "ec151686",
   "metadata": {},
   "source": [
    "### №9"
   ]
  },
  {
   "cell_type": "code",
   "execution_count": 124,
   "id": "358a2d9e",
   "metadata": {},
   "outputs": [],
   "source": [
    "x = astro_df.copy()"
   ]
  },
  {
   "cell_type": "code",
   "execution_count": 125,
   "id": "d8290b27",
   "metadata": {},
   "outputs": [],
   "source": [
    "def get_count_missions(birth_place):\n",
    "    return len(birth_place.split(','))\n",
    "x[\"Count Missions\"] = x[\"Missions\"].apply(str).apply(get_count_missions)"
   ]
  },
  {
   "cell_type": "code",
   "execution_count": 126,
   "id": "dd7cd23b",
   "metadata": {},
   "outputs": [
    {
     "data": {
      "text/html": [
       "<div>\n",
       "<style scoped>\n",
       "    .dataframe tbody tr th:only-of-type {\n",
       "        vertical-align: middle;\n",
       "    }\n",
       "\n",
       "    .dataframe tbody tr th {\n",
       "        vertical-align: top;\n",
       "    }\n",
       "\n",
       "    .dataframe thead th {\n",
       "        text-align: right;\n",
       "    }\n",
       "</style>\n",
       "<table border=\"1\" class=\"dataframe\">\n",
       "  <thead>\n",
       "    <tr style=\"text-align: right;\">\n",
       "      <th></th>\n",
       "      <th>Name</th>\n",
       "      <th>Year</th>\n",
       "      <th>Group</th>\n",
       "      <th>Status</th>\n",
       "      <th>Birth Date</th>\n",
       "      <th>Birth Place</th>\n",
       "      <th>Gender</th>\n",
       "      <th>Alma Mater</th>\n",
       "      <th>Undergraduate Major</th>\n",
       "      <th>Graduate Major</th>\n",
       "      <th>...</th>\n",
       "      <th>Space Flights</th>\n",
       "      <th>Space Flight (hr)</th>\n",
       "      <th>Space Walks</th>\n",
       "      <th>Space Walks (hr)</th>\n",
       "      <th>Missions</th>\n",
       "      <th>Death Date</th>\n",
       "      <th>Death Mission</th>\n",
       "      <th>Birth Index</th>\n",
       "      <th>Count Missions</th>\n",
       "      <th>Gender IND</th>\n",
       "    </tr>\n",
       "  </thead>\n",
       "  <tbody>\n",
       "    <tr>\n",
       "      <th>0</th>\n",
       "      <td>Joseph M. Acaba</td>\n",
       "      <td>2004.0</td>\n",
       "      <td>19.0</td>\n",
       "      <td>Active</td>\n",
       "      <td>5/17/1967</td>\n",
       "      <td>Inglewood, CA</td>\n",
       "      <td>Male</td>\n",
       "      <td>University of Arizona</td>\n",
       "      <td>Geology</td>\n",
       "      <td>Geology</td>\n",
       "      <td>...</td>\n",
       "      <td>2</td>\n",
       "      <td>3307</td>\n",
       "      <td>2</td>\n",
       "      <td>13.0</td>\n",
       "      <td>STS-119 (Discovery), ISS-31/32 (Soyuz)</td>\n",
       "      <td>NaN</td>\n",
       "      <td>NaN</td>\n",
       "      <td>CA</td>\n",
       "      <td>2</td>\n",
       "      <td>1</td>\n",
       "    </tr>\n",
       "    <tr>\n",
       "      <th>1</th>\n",
       "      <td>Loren W. Acton</td>\n",
       "      <td>NaN</td>\n",
       "      <td>NaN</td>\n",
       "      <td>Retired</td>\n",
       "      <td>3/7/1936</td>\n",
       "      <td>Lewiston, MT</td>\n",
       "      <td>Male</td>\n",
       "      <td>University of Colorado</td>\n",
       "      <td>Engineering Physics</td>\n",
       "      <td>Solar Physics</td>\n",
       "      <td>...</td>\n",
       "      <td>1</td>\n",
       "      <td>190</td>\n",
       "      <td>0</td>\n",
       "      <td>0.0</td>\n",
       "      <td>STS 51-F (Challenger)</td>\n",
       "      <td>NaN</td>\n",
       "      <td>NaN</td>\n",
       "      <td>MT</td>\n",
       "      <td>1</td>\n",
       "      <td>1</td>\n",
       "    </tr>\n",
       "    <tr>\n",
       "      <th>2</th>\n",
       "      <td>James C. Adamson</td>\n",
       "      <td>1984.0</td>\n",
       "      <td>10.0</td>\n",
       "      <td>Retired</td>\n",
       "      <td>3/3/1946</td>\n",
       "      <td>Warsaw, NY</td>\n",
       "      <td>Male</td>\n",
       "      <td>Princeton University</td>\n",
       "      <td>Engineering</td>\n",
       "      <td>Aerospace Engineering</td>\n",
       "      <td>...</td>\n",
       "      <td>2</td>\n",
       "      <td>334</td>\n",
       "      <td>0</td>\n",
       "      <td>0.0</td>\n",
       "      <td>STS-28 (Columbia), STS-43 (Atlantis)</td>\n",
       "      <td>NaN</td>\n",
       "      <td>NaN</td>\n",
       "      <td>NY</td>\n",
       "      <td>2</td>\n",
       "      <td>1</td>\n",
       "    </tr>\n",
       "    <tr>\n",
       "      <th>3</th>\n",
       "      <td>Thomas D. Akers</td>\n",
       "      <td>1987.0</td>\n",
       "      <td>12.0</td>\n",
       "      <td>Retired</td>\n",
       "      <td>5/20/1951</td>\n",
       "      <td>St. Louis, MO</td>\n",
       "      <td>Male</td>\n",
       "      <td>University of Missouri-Rolla</td>\n",
       "      <td>Applied Mathematics</td>\n",
       "      <td>Applied Mathematics</td>\n",
       "      <td>...</td>\n",
       "      <td>4</td>\n",
       "      <td>814</td>\n",
       "      <td>4</td>\n",
       "      <td>29.0</td>\n",
       "      <td>STS-41 (Discovery), STS-49 (Endeavor), STS-61 ...</td>\n",
       "      <td>NaN</td>\n",
       "      <td>NaN</td>\n",
       "      <td>MO</td>\n",
       "      <td>4</td>\n",
       "      <td>1</td>\n",
       "    </tr>\n",
       "    <tr>\n",
       "      <th>4</th>\n",
       "      <td>Buzz Aldrin</td>\n",
       "      <td>1963.0</td>\n",
       "      <td>3.0</td>\n",
       "      <td>Retired</td>\n",
       "      <td>1/20/1930</td>\n",
       "      <td>Montclair, NJ</td>\n",
       "      <td>Male</td>\n",
       "      <td>MIT</td>\n",
       "      <td>Mechanical Engineering</td>\n",
       "      <td>Astronautics</td>\n",
       "      <td>...</td>\n",
       "      <td>2</td>\n",
       "      <td>289</td>\n",
       "      <td>2</td>\n",
       "      <td>8.0</td>\n",
       "      <td>Gemini 12, Apollo 11</td>\n",
       "      <td>NaN</td>\n",
       "      <td>NaN</td>\n",
       "      <td>NJ</td>\n",
       "      <td>2</td>\n",
       "      <td>1</td>\n",
       "    </tr>\n",
       "  </tbody>\n",
       "</table>\n",
       "<p>5 rows × 22 columns</p>\n",
       "</div>"
      ],
      "text/plain": [
       "               Name    Year  Group   Status Birth Date    Birth Place Gender  \\\n",
       "0   Joseph M. Acaba  2004.0   19.0   Active  5/17/1967  Inglewood, CA   Male   \n",
       "1    Loren W. Acton     NaN    NaN  Retired   3/7/1936   Lewiston, MT   Male   \n",
       "2  James C. Adamson  1984.0   10.0  Retired   3/3/1946     Warsaw, NY   Male   \n",
       "3   Thomas D. Akers  1987.0   12.0  Retired  5/20/1951  St. Louis, MO   Male   \n",
       "4       Buzz Aldrin  1963.0    3.0  Retired  1/20/1930  Montclair, NJ   Male   \n",
       "\n",
       "                     Alma Mater     Undergraduate Major  \\\n",
       "0         University of Arizona                 Geology   \n",
       "1        University of Colorado     Engineering Physics   \n",
       "2          Princeton University             Engineering   \n",
       "3  University of Missouri-Rolla     Applied Mathematics   \n",
       "4                           MIT  Mechanical Engineering   \n",
       "\n",
       "          Graduate Major  ... Space Flights Space Flight (hr)  Space Walks  \\\n",
       "0                Geology  ...             2              3307            2   \n",
       "1          Solar Physics  ...             1               190            0   \n",
       "2  Aerospace Engineering  ...             2               334            0   \n",
       "3    Applied Mathematics  ...             4               814            4   \n",
       "4           Astronautics  ...             2               289            2   \n",
       "\n",
       "   Space Walks (hr)                                           Missions  \\\n",
       "0              13.0             STS-119 (Discovery), ISS-31/32 (Soyuz)   \n",
       "1               0.0                              STS 51-F (Challenger)   \n",
       "2               0.0               STS-28 (Columbia), STS-43 (Atlantis)   \n",
       "3              29.0  STS-41 (Discovery), STS-49 (Endeavor), STS-61 ...   \n",
       "4               8.0                               Gemini 12, Apollo 11   \n",
       "\n",
       "   Death Date Death Mission Birth Index Count Missions Gender IND  \n",
       "0         NaN           NaN          CA              2          1  \n",
       "1         NaN           NaN          MT              1          1  \n",
       "2         NaN           NaN          NY              2          1  \n",
       "3         NaN           NaN          MO              4          1  \n",
       "4         NaN           NaN          NJ              2          1  \n",
       "\n",
       "[5 rows x 22 columns]"
      ]
     },
     "execution_count": 126,
     "metadata": {},
     "output_type": "execute_result"
    }
   ],
   "source": [
    "def get_gender(gender):\n",
    "    if gender == \"Male\":\n",
    "        return 1\n",
    "    else:\n",
    "        return 0\n",
    "x[\"Gender IND\"] = x[\"Gender\"].apply(str).apply(get_gender)\n",
    "\n",
    "x.head()"
   ]
  },
  {
   "cell_type": "code",
   "execution_count": 128,
   "id": "73c73570",
   "metadata": {},
   "outputs": [],
   "source": [
    "speamen = x['Gender IND'].corr(x['Count Missions'], method = \"spearman\")"
   ]
  },
  {
   "cell_type": "code",
   "execution_count": 131,
   "id": "73cc0b98",
   "metadata": {},
   "outputs": [],
   "source": [
    "kendall = x['Gender IND'].corr(x['Count Missions'], method = \"kendall\")"
   ]
  },
  {
   "cell_type": "code",
   "execution_count": 133,
   "id": "0c655ab9",
   "metadata": {},
   "outputs": [
    {
     "data": {
      "image/png": "[encoded data removed]",
      "text/plain": [
       "<Figure size 1224x1080 with 1 Axes>"
      ]
     },
     "metadata": {
      "needs_background": "light"
     },
     "output_type": "display_data"
    }
   ],
   "source": [
    "fig, ax = plt.subplots()\n",
    "ax.bar(x[\"Gender\"], x[\"Count Missions\"])\n",
    "\n",
    "fig.set_figwidth(17)\n",
    "fig.set_figheight(15)\n",
    "plt.show()"
   ]
  }
 ],
 "metadata": {
  "kernelspec": {
   "display_name": "Python 3 (ipykernel)",
   "language": "python",
   "name": "python3"
  },
  "language_info": {
   "codemirror_mode": {
    "name": "ipython",
    "version": 3
   },
   "file_extension": ".py",
   "mimetype": "text/x-python",
   "name": "python",
   "nbconvert_exporter": "python",
   "pygments_lexer": "ipython3",
   "version": "3.10.2"
  }
 },
 "nbformat": 4,
 "nbformat_minor": 5
}
